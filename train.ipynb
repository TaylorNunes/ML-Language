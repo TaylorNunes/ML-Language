{
 "cells": [
  {
   "cell_type": "code",
   "execution_count": null,
   "metadata": {},
   "outputs": [],
   "source": [
    "import tensorflow as tf\n",
    "import keras_tuner as kt\n",
    "import generator as my_generator\n",
    "import preprocess as my_preprocess\n",
    "import model as my_modeler\n",
    "import numpy as np\n",
    "import datetime\n",
    "import matplotlib.pyplot as plt"
   ]
  },
  {
   "cell_type": "code",
   "execution_count": null,
   "metadata": {},
   "outputs": [],
   "source": [
    "class_number = 2\n",
    "clip_length_seconds = 4\n",
    "number_of_samples = 800 \n",
    "test_ratio = 0.2\n",
    "validation_ratio = 0.2 \n",
    "batch_size = 4\n",
    "languages = ['japanese', 'english']\n",
    "languages_dir = ['audio/japanese',\n",
    "                  'audio/english']\n",
    "datamaker  = my_preprocess.DatasetMaker(number_of_samples)\n",
    "train_df = datamaker.make_sample_dataframe(languages, languages_dir)\n",
    "train_df, test_df = datamaker.split_dataframe(train_df, test_ratio)\n",
    "train_df, validation_df = datamaker.split_dataframe(train_df, validation_ratio)"
   ]
  },
  {
   "cell_type": "markdown",
   "metadata": {},
   "source": [
    "#### Hypermodel Tuning"
   ]
  },
  {
   "cell_type": "code",
   "execution_count": null,
   "metadata": {},
   "outputs": [],
   "source": [
    "epochs = 10\n",
    "hp = kt.HyperParameters()\n",
    "hypermodel = my_modeler.MyHyperModel(train_df, validation_df, class_number, clip_length_seconds)\n",
    "\n",
    "tuner = kt.RandomSearch(hypermodel=hypermodel,\n",
    "                        objective='val_binary_accuracy',\n",
    "                        max_trials=20,\n",
    "                        executions_per_trial=1,\n",
    "                        overwrite=False,\n",
    "                        directory='searchResults',\n",
    "                        project_name='audioClassification2')\n",
    "\n",
    "tuner.search(epochs=epochs)                                                          "
   ]
  },
  {
   "cell_type": "code",
   "execution_count": null,
   "metadata": {},
   "outputs": [],
   "source": [
    "from contextlib import redirect_stdout\n",
    "best_hp = tuner.get_best_hyperparameters()[0]\n",
    "with open('searchResults/audioClassification/results.txt', 'w') as f:\n",
    "  with redirect_stdout(f):\n",
    "    tuner.results_summary(num_trials=40)"
   ]
  },
  {
   "cell_type": "markdown",
   "metadata": {},
   "source": [
    "#### Ordinary Model Training"
   ]
  },
  {
   "cell_type": "code",
   "execution_count": null,
   "metadata": {},
   "outputs": [],
   "source": [
    "train_generator = my_generator.MyGenerator(train_df, \n",
    "                                            batch_size, \n",
    "                                            clip_length_seconds, \n",
    "                                            spec_nfft=2**8,\n",
    "                                            spec_window=2**8,\n",
    "                                            spec_stride=2**7,\n",
    "                                            spec_mels=240)\n",
    "validation_generator = my_generator.MyGenerator(validation_df,\n",
    "                                                batch_size, \n",
    "                                                clip_length_seconds, \n",
    "                                                spec_nfft=2**8,\n",
    "                                                spec_window=2**8,\n",
    "                                                spec_stride=2**7,\n",
    "                                                spec_mels=240)\n",
    "image_size = validation_generator.spectrogram_shape\n",
    "\n",
    "# Model parameters\n",
    "learning_rate = 0.0001\n",
    "batch_size = 4\n",
    "epochs = 25\n",
    "\n",
    "# Model\n",
    "modeler = my_modeler.MyModeler(image_size, class_number) \n",
    "model = modeler.make_model()\n",
    "optimizer = tf.keras.optimizers.Adam(learning_rate=learning_rate)\n",
    "loss = tf.keras.losses.BinaryCrossentropy()\n",
    "metrics = [tf.keras.metrics.BinaryAccuracy()]\n",
    "log_dir = 'logs/fit/' + datetime.datetime.now().strftime('%Y_%m_%d-%H:%M:%S') \n",
    "tensorboard_callback = tf.keras.callbacks.TensorBoard(log_dir=log_dir, histogram_freq=1)\n",
    "model.compile(optimizer=optimizer, loss=loss, metrics=metrics)\n",
    "model.fit(train_generator, validation_data=validation_generator, epochs=epochs, callbacks = [tensorboard_callback])\n"
   ]
  },
  {
   "cell_type": "code",
   "execution_count": null,
   "metadata": {},
   "outputs": [],
   "source": [
    "model.save(\"models/model.h5\")\n",
    "model.save(\"models/model\")"
   ]
  }
 ],
 "metadata": {
  "interpreter": {
   "hash": "1a3dbc0d181605cfeb5aee6c7249346f533ee123a49852a2bc0a3bc3f69ebe47"
  },
  "kernelspec": {
   "display_name": "Python 3.8.10 ('envl': venv)",
   "language": "python",
   "name": "python3"
  },
  "language_info": {
   "codemirror_mode": {
    "name": "ipython",
    "version": 3
   },
   "file_extension": ".py",
   "mimetype": "text/x-python",
   "name": "python",
   "nbconvert_exporter": "python",
   "pygments_lexer": "ipython3",
   "version": "3.8.10"
  },
  "orig_nbformat": 4
 },
 "nbformat": 4,
 "nbformat_minor": 2
}
